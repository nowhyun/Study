{
  "nbformat": 4,
  "nbformat_minor": 0,
  "metadata": {
    "colab": {
      "name": "정규 표현식(Regular Expressions) 및 문자열 다듬기.ipynb",
      "provenance": [],
      "collapsed_sections": [
        "DEel_jSwSMQ9"
      ],
      "authorship_tag": "ABX9TyNqJO0zlLqPDlckvmle/QUH",
      "include_colab_link": true
    },
    "kernelspec": {
      "name": "python3",
      "display_name": "Python 3"
    }
  },
  "cells": [
    {
      "cell_type": "markdown",
      "metadata": {
        "id": "view-in-github",
        "colab_type": "text"
      },
      "source": [
        "<a href=\"https://colab.research.google.com/github/nowhyun/Study/blob/master/%EC%A0%95%EA%B7%9C_%ED%91%9C%ED%98%84%EC%8B%9D(Regular_Expressions)_%EB%B0%8F_%EB%AC%B8%EC%9E%90%EC%97%B4_%EB%8B%A4%EB%93%AC%EA%B8%B0.ipynb\" target=\"_parent\"><img src=\"https://colab.research.google.com/assets/colab-badge.svg\" alt=\"Open In Colab\"/></a>"
      ]
    },
    {
      "cell_type": "markdown",
      "metadata": {
        "id": "DEel_jSwSMQ9",
        "colab_type": "text"
      },
      "source": [
        "#파이썬 내부 문자열 처리 함수"
      ]
    },
    {
      "cell_type": "markdown",
      "metadata": {
        "id": "higV1KSWmQlg",
        "colab_type": "text"
      },
      "source": [
        "##1. replace()\n",
        " - replace('before_word', 'after_word')는 문자열 내 'before_word'를 'after_word'로 교체합니다."
      ]
    },
    {
      "cell_type": "code",
      "metadata": {
        "id": "H-_H1wGehVBH",
        "colab_type": "code",
        "colab": {
          "base_uri": "https://localhost:8080/",
          "height": 54
        },
        "outputId": "6623d781-6656-47b6-f651-21a21997fd6e"
      },
      "source": [
        "input_str = 'replace before'\n",
        "print('AFTER STRING   :', input_str.replace('before', 'after')) #바뀐 결과를 반환하지만\n",
        "print('ORIGINAL STRING:', input_str) #바뀐 결과를 원본에 저장하지는 않습니다."
      ],
      "execution_count": 29,
      "outputs": [
        {
          "output_type": "stream",
          "text": [
            "AFTER STRING   : replace after\n",
            "ORIGINAL STRING: replace before\n"
          ],
          "name": "stdout"
        }
      ]
    },
    {
      "cell_type": "markdown",
      "metadata": {
        "id": "VAiwO8tbmyFh",
        "colab_type": "text"
      },
      "source": [
        "##2. maketrans(), translate()\n",
        " - maketrans('before_chars','after_chars')는 문자열 내 각각의 char를 어떤 문자로 바꿀 것인지에 대한 매칭 테이블을 생성합니다.\n",
        " - translate(table_by_maketrans)는 maketrans로 생성된 테이블에 맞춰 문자열을 교체합니다."
      ]
    },
    {
      "cell_type": "code",
      "metadata": {
        "id": "_sGlRnJkmx1y",
        "colab_type": "code",
        "colab": {
          "base_uri": "https://localhost:8080/",
          "height": 54
        },
        "outputId": "a7ce8883-0b5d-4837-a181-ddd895d87c74"
      },
      "source": [
        "input_str = 'char_mapping'\n",
        "table = str.maketrans('char_ing','문자열을*하는중')\n",
        "print('AFTER STRING   :', input_str.translate(table)) #바뀐 결과를 반환하지만\n",
        "print('ORIGINAL STRING:',input_str) #바뀐 결과를 원본에 저장하지는 않습니다."
      ],
      "execution_count": 30,
      "outputs": [
        {
          "output_type": "stream",
          "text": [
            "AFTER STRING   : 문자열을*m열pp하는중\n",
            "ORIGINAL STRING: char_mapping\n"
          ],
          "name": "stdout"
        }
      ]
    },
    {
      "cell_type": "markdown",
      "metadata": {
        "id": "tAlp3SVNoVzV",
        "colab_type": "text"
      },
      "source": [
        "##3. split()\n",
        " - split()은 문자열을 리스트로 분해합니다. 기본적으로 공백 기준이며, 다른 기준을 인자로써 입력할 수 있습니다."
      ]
    },
    {
      "cell_type": "code",
      "metadata": {
        "id": "ig3O1L5Ro1iv",
        "colab_type": "code",
        "colab": {
          "base_uri": "https://localhost:8080/",
          "height": 54
        },
        "outputId": "79c1fea7-5e15-44e7-a0ea-1c3da88a2218"
      },
      "source": [
        "input_str = 'im sorry i just wanted to show you this'\n",
        "print('AFTER STRING   :',input_str.split()) #바뀐 결과를 반환하지만\n",
        "print('ORIGINAL STRING:',input_str) #바뀐 결과를 원본에 저장하지는 않습니다."
      ],
      "execution_count": 31,
      "outputs": [
        {
          "output_type": "stream",
          "text": [
            "AFTER STRING   : ['im', 'sorry', 'i', 'just', 'wanted', 'to', 'show', 'you', 'this']\n",
            "ORIGINAL STRING: im sorry i just wanted to show you this\n"
          ],
          "name": "stdout"
        }
      ]
    },
    {
      "cell_type": "code",
      "metadata": {
        "id": "wcHjQ0qpoKFJ",
        "colab_type": "code",
        "colab": {
          "base_uri": "https://localhost:8080/",
          "height": 54
        },
        "outputId": "1ba708cf-4a5b-4338-e39a-49e59003a3d8"
      },
      "source": [
        "input_str = 'im/sorry/i/just/wanted/to/show/you/this'\n",
        "print('AFTER STRING   :',input_str.split('/')) #바뀐 결과를 반환하지만\n",
        "print('ORIGINAL STRING:',input_str) #바뀐 결과를 원본에 저장하지는 않습니다."
      ],
      "execution_count": 32,
      "outputs": [
        {
          "output_type": "stream",
          "text": [
            "AFTER STRING   : ['im', 'sorry', 'i', 'just', 'wanted', 'to', 'show', 'you', 'this']\n",
            "ORIGINAL STRING: im/sorry/i/just/wanted/to/show/you/this\n"
          ],
          "name": "stdout"
        }
      ]
    },
    {
      "cell_type": "markdown",
      "metadata": {
        "id": "D2pSHiKBrWtB",
        "colab_type": "text"
      },
      "source": [
        "##4. join()\n",
        " - join()은 리스트를 문자열로 연결합니다. join() 앞에 문자열과 문자열 사이를 무엇으로 채울 것인지 입력할 수 있습니다."
      ]
    },
    {
      "cell_type": "code",
      "metadata": {
        "id": "KuNnA1iupSP0",
        "colab_type": "code",
        "colab": {
          "base_uri": "https://localhost:8080/",
          "height": 54
        },
        "outputId": "dae1a60c-66da-4505-a7e4-6d30ff041051"
      },
      "source": [
        "input_str = ['im', 'sorry', 'i', 'just', 'wanted', 'to', 'show', 'you', 'this']\n",
        "print('AFTER STRING   :', ' '.join(input_str)) #바뀐 결과를 반환하지만\n",
        "print('ORIGINAL STRING:',input_str) #바뀐 결과를 원본에 저장하지는 않습니다."
      ],
      "execution_count": 33,
      "outputs": [
        {
          "output_type": "stream",
          "text": [
            "AFTER STRING   : im sorry i just wanted to show you this\n",
            "ORIGINAL STRING: ['im', 'sorry', 'i', 'just', 'wanted', 'to', 'show', 'you', 'this']\n"
          ],
          "name": "stdout"
        }
      ]
    },
    {
      "cell_type": "code",
      "metadata": {
        "id": "0vcBhvgErxSY",
        "colab_type": "code",
        "colab": {
          "base_uri": "https://localhost:8080/",
          "height": 54
        },
        "outputId": "f02d5945-fb23-4385-b768-92d13f4b16e1"
      },
      "source": [
        "input_str = ['im', 'sorry', 'i', 'just', 'wanted', 'to', 'show', 'you', 'this']\n",
        "print('AFTER STRING   :', '-'.join(input_str)) #바뀐 결과를 반환하지만\n",
        "print('ORIGINAL STRING:',input_str) #바뀐 결과를 원본에 저장하지는 않습니다."
      ],
      "execution_count": 34,
      "outputs": [
        {
          "output_type": "stream",
          "text": [
            "AFTER STRING   : im-sorry-i-just-wanted-to-show-you-this\n",
            "ORIGINAL STRING: ['im', 'sorry', 'i', 'just', 'wanted', 'to', 'show', 'you', 'this']\n"
          ],
          "name": "stdout"
        }
      ]
    },
    {
      "cell_type": "markdown",
      "metadata": {
        "id": "jQtl36gSssc_",
        "colab_type": "text"
      },
      "source": [
        "##5. upper(), lower()\n",
        " - upper()는 문자열을 대문자로, lower()는 문자열을 소문자로 변경합니다."
      ]
    },
    {
      "cell_type": "code",
      "metadata": {
        "id": "H9xgT7DRsQ2z",
        "colab_type": "code",
        "colab": {
          "base_uri": "https://localhost:8080/",
          "height": 72
        },
        "outputId": "2c44f217-9e39-49f5-8cfc-5d5e5e636abb"
      },
      "source": [
        "input_str = 'lower AnD UPPER'\n",
        "print('UPPER STRING   :', input_str.upper())\n",
        "print('LOWER STRING   :', input_str.lower())\n",
        "print('ORIGINAL STRING:',input_str) #바뀐 결과를 원본에 저장하지는 않습니다."
      ],
      "execution_count": 35,
      "outputs": [
        {
          "output_type": "stream",
          "text": [
            "UPPER STRING   : LOWER AND UPPER\n",
            "LOWER STRING   : lower and upper\n",
            "ORIGINAL STRING: lower AnD UPPER\n"
          ],
          "name": "stdout"
        }
      ]
    },
    {
      "cell_type": "markdown",
      "metadata": {
        "id": "et2CIG7ptLvZ",
        "colab_type": "text"
      },
      "source": [
        "##6. strip(), rstrip(), lstrip()\n",
        " - strip()은 문자열 내의 공백을 제거하며, 좌우의 특정 문자를 제거할 수도 있습니다."
      ]
    },
    {
      "cell_type": "code",
      "metadata": {
        "id": "FWIJ8PHZtDf4",
        "colab_type": "code",
        "colab": {
          "base_uri": "https://localhost:8080/",
          "height": 90
        },
        "outputId": "19866947-4865-4d42-ba5e-a258520e914b"
      },
      "source": [
        "input_str = '  _leftbalnk_ _rightblank_  '\n",
        "print('STRIP STRING   :', input_str.strip(), '|')\n",
        "print('RSTRIP STRING  :', input_str.rstrip(), '|')\n",
        "print('LSTRIP STRING  :', input_str.lstrip(), '|')\n",
        "print('ORIGINAL STRING:', input_str, '|')"
      ],
      "execution_count": 36,
      "outputs": [
        {
          "output_type": "stream",
          "text": [
            "STRIP STRING   : _leftbalnk_ _rightblank_ |\n",
            "RSTRIP STRING  :   _leftbalnk_ _rightblank_ |\n",
            "LSTRIP STRING  : _leftbalnk_ _rightblank_   |\n",
            "ORIGINAL STRING:   _leftbalnk_ _rightblank_   |\n"
          ],
          "name": "stdout"
        }
      ]
    },
    {
      "cell_type": "code",
      "metadata": {
        "id": "PS1gNwTYtn1A",
        "colab_type": "code",
        "colab": {
          "base_uri": "https://localhost:8080/",
          "height": 90
        },
        "outputId": "f2cff0e4-6a31-4198-b331-9742f608df64"
      },
      "source": [
        "input_str = '_leftbalnkrightblank_'\n",
        "print('STRIP STRING   :', input_str.strip('_'), '|')\n",
        "print('RSTRIP STRING  :', input_str.rstrip('_'), '|')\n",
        "print('LSTRIP STRING  :', input_str.lstrip('_'), '|')\n",
        "print('ORIGINAL STRING:', input_str, '|')"
      ],
      "execution_count": 43,
      "outputs": [
        {
          "output_type": "stream",
          "text": [
            "STRIP STRING   : leftbalnkrightblank |\n",
            "RSTRIP STRING  : _leftbalnkrightblank |\n",
            "LSTRIP STRING  : leftbalnkrightblank_ |\n",
            "ORIGINAL STRING: _leftbalnkrightblank_ |\n"
          ],
          "name": "stdout"
        }
      ]
    },
    {
      "cell_type": "markdown",
      "metadata": {
        "id": "pTyPvABvvKT3",
        "colab_type": "text"
      },
      "source": [
        "##7. center(), rjust(), ljust()\n",
        " - 해당 함수들은 문자열을 각각 가운데, 오른, 왼 정렬하는 함수입니다. 자리수 지정이 가능하며, 빈칸을 특정값으로 채울 수 있습니다."
      ]
    },
    {
      "cell_type": "code",
      "metadata": {
        "id": "Tq6yr8iuuhZ6",
        "colab_type": "code",
        "colab": {
          "base_uri": "https://localhost:8080/",
          "height": 90
        },
        "outputId": "81f1e56c-175d-4c0b-aa6e-57c55dfa9cf7"
      },
      "source": [
        "input_str = '456'\n",
        "print('CENTER STRING  :',input_str.center(10))\n",
        "print('RJUST STRING   :',input_str.rjust(10))\n",
        "print('LJUST STRING   :',input_str.ljust(10))\n",
        "print('ORIGINAL STRING:', input_str)"
      ],
      "execution_count": 49,
      "outputs": [
        {
          "output_type": "stream",
          "text": [
            "CENTER STRING  :    456    \n",
            "RJUST STRING   :        456\n",
            "LJUST STRING   : 456       \n",
            "ORIGINAL STRING: 456\n"
          ],
          "name": "stdout"
        }
      ]
    },
    {
      "cell_type": "code",
      "metadata": {
        "id": "HEqFsVIGvpTo",
        "colab_type": "code",
        "colab": {
          "base_uri": "https://localhost:8080/",
          "height": 90
        },
        "outputId": "98c85ebd-b4a5-4a35-83eb-851e471ec0b8"
      },
      "source": [
        "input_str = '456'\n",
        "print('CENTER STRING  :',input_str.center(10, '_'))\n",
        "print('RJUST STRING   :',input_str.rjust(10, '_'))\n",
        "print('LJUST STRING   :',input_str.ljust(10, '_'))\n",
        "print('ORIGINAL STRING:', input_str)"
      ],
      "execution_count": 51,
      "outputs": [
        {
          "output_type": "stream",
          "text": [
            "CENTER STRING  : ___456____\n",
            "RJUST STRING   : _______456\n",
            "LJUST STRING   : 456_______\n",
            "ORIGINAL STRING: 456\n"
          ],
          "name": "stdout"
        }
      ]
    },
    {
      "cell_type": "markdown",
      "metadata": {
        "id": "krbO-e7PwW1c",
        "colab_type": "text"
      },
      "source": [
        "##8. zfill()\n",
        " - zfill()는 지정된 길이에 맞춰 문자열의 왼쪽에 zero-padding을 시행합니다."
      ]
    },
    {
      "cell_type": "code",
      "metadata": {
        "id": "H7Z0hoVxwKTc",
        "colab_type": "code",
        "colab": {
          "base_uri": "https://localhost:8080/",
          "height": 54
        },
        "outputId": "4b32d5f9-03fd-4f74-df5a-e161812dc0f3"
      },
      "source": [
        "input_str = '456'\n",
        "print('ZFILL STRING   :',input_str.zfill(10))\n",
        "print('ORIGINAL STRING:', input_str)"
      ],
      "execution_count": 53,
      "outputs": [
        {
          "output_type": "stream",
          "text": [
            "ZFILL STRING   : 0000000456\n",
            "ORIGINAL STRING: 456\n"
          ],
          "name": "stdout"
        }
      ]
    },
    {
      "cell_type": "markdown",
      "metadata": {
        "id": "QFAGdAD4w8S_",
        "colab_type": "text"
      },
      "source": [
        "##9. find(), rfind(), index(), rindex()\n",
        " - find(), index()는 좌측에서 해당 문자열의 첫번째 등장 인덱스를 반환, rfind(), rindex()는 우측에서 첫번째 등장 인덱스를 반환합니다. 다만 find()의 경우 해당 문자열이 없을 경우 -1을 반환하고, index()의 경우 에러를 반환합니다."
      ]
    },
    {
      "cell_type": "code",
      "metadata": {
        "id": "5xcBAFZPwqCy",
        "colab_type": "code",
        "colab": {
          "base_uri": "https://localhost:8080/",
          "height": 108
        },
        "outputId": "b1478da1-0a4f-4c66-ea54-602fb71de432"
      },
      "source": [
        "input_str = '1223334444'\n",
        "print('FIND RESULT    :',input_str.find('3'))\n",
        "print('RFIND RESULT   :',input_str.rfind('3'))\n",
        "print('INDEX RESULT   :',input_str.index('3'))\n",
        "print('RINDEX RESULT  :',input_str.rindex('3'))\n",
        "print('ORIGINAL STRING:', input_str)"
      ],
      "execution_count": 56,
      "outputs": [
        {
          "output_type": "stream",
          "text": [
            "FIND RESULT    : 3\n",
            "RFIND RESULT   : 5\n",
            "INDEX RESULT   : 3\n",
            "RINDEX RESULT  : 5\n",
            "ORIGINAL STRING: 1223334444\n"
          ],
          "name": "stdout"
        }
      ]
    },
    {
      "cell_type": "code",
      "metadata": {
        "id": "dcBAZs88yLM0",
        "colab_type": "code",
        "colab": {
          "base_uri": "https://localhost:8080/",
          "height": 72
        },
        "outputId": "e4295031-31e2-4a26-b2ce-2eb33fc514de"
      },
      "source": [
        "input_str = '1223334444'\n",
        "print('FIND RESULT    :',input_str.find('5'))\n",
        "try:\n",
        "    input_str.index('5')\n",
        "except:\n",
        "    print('INDEX RESULT   :', 'ERROR')\n",
        "print('ORIGINAL STRING:', input_str)"
      ],
      "execution_count": 60,
      "outputs": [
        {
          "output_type": "stream",
          "text": [
            "FIND RESULT    : -1\n",
            "INDEX RESULT   : ERROR\n",
            "ORIGINAL STRING: 1223334444\n"
          ],
          "name": "stdout"
        }
      ]
    },
    {
      "cell_type": "markdown",
      "metadata": {
        "id": "yn1kiQpVzEUy",
        "colab_type": "text"
      },
      "source": [
        "##10. count()\n",
        " - count()는 해당 문자열에서 특정 문자열이 몇 번 나오는가를 카운팅합니다."
      ]
    },
    {
      "cell_type": "code",
      "metadata": {
        "id": "KG2bOo7mybsn",
        "colab_type": "code",
        "colab": {
          "base_uri": "https://localhost:8080/",
          "height": 54
        },
        "outputId": "e83d55ee-b1a7-4d72-8f8e-e7df48bc5260"
      },
      "source": [
        "input_str = '1223334444'\n",
        "print('3 COUNT RESULT :',input_str.count('3'))\n",
        "print('ORIGINAL STRING:', input_str)"
      ],
      "execution_count": 63,
      "outputs": [
        {
          "output_type": "stream",
          "text": [
            "3 COUNT RESULT : 3\n",
            "ORIGINAL STRING: 1223334444\n"
          ],
          "name": "stdout"
        }
      ]
    },
    {
      "cell_type": "markdown",
      "metadata": {
        "id": "EuSmDoRk0cSD",
        "colab_type": "text"
      },
      "source": [
        "#정규 표현식(정규식, Regex)\n",
        " - 정규 표현식은 다양한 메타 문자(Meta character, [ ] { } ^ $ | ? + * \\ .)을 사용해 표현되며, 그 목적은 어떤 문자열에서 특정 문자열을 검색 또는 대치하기 위함입니다. 가령, HTML 코드 상에서 내가 필요한 정보를 가져올 때 사용할 수 있습니다."
      ]
    },
    {
      "cell_type": "code",
      "metadata": {
        "id": "VubWfQuo6OPG",
        "colab_type": "code",
        "colab": {}
      },
      "source": [
        "'''\n",
        "1.   [ ]\n",
        "    - 기본적으로 [ ]의 키워드는 '집합'입니다. \n",
        "    - [ ]안에 특정 문자열을 입력하여 매칭 패턴을 생성하며, [ ] 사이에는 어떤 문자도 들어갈 수 있습니다. \n",
        "    - 예를 들어, [XYZ]는 X,Y,Z 중 한개의 문자와 매치됨을 의미하며, X-axis, axis-Y 등이 매치됩니다.\n",
        "    - [ ]안에 - 는 문자의 범위를 의미하며, [a-z]는 모든 문자를, [0-9]는 모든 숫자를 의미합니다\n",
        "    - [ ]안에 ^ 는 부정을 의미하며, [^a-z]는 문자를 제외한 모든 문자열을 의미합니다.\n",
        "2.   { }\n",
        "    - 기본적으로 { }의 키워드는 '반복'입니다. \n",
        "    - { }안에 수치를 입력하여, 해당 문자열이 몇 번 반복해서 나타나는가를 매치합니다. \n",
        "    - 예를 들어, XY{2}Z 는 XYYZ와 매치되며, XY{1,3}Z 는 XYZ, XYYZ, XYYYZ와 매치됩니다.\n",
        "3.   ^\n",
        "    - 기본적으로 { }의 키워드는 '시작'입니다. \n",
        "    - 예를 들어, ^XYZ 는 XYZ로 시작하는 문자열과 매치됩니다.\n",
        "4.   \\$\n",
        "    - 기본적으로 { }의 키워드는 '종료'입니다. \n",
        "    - 예를 들어, XYZ$ 는 XYZ로 종료되는 문자열과 매치됩니다.\n",
        "5.   |\n",
        "    - 기본적으로 { }의 키워드는 'OR'입니다. \n",
        "    - 예를 들어, X | Y 는 X 또는 Y를 포함한 문자열과 매치됩니다.\n",
        "6.   ?\n",
        "    - 기본적으로 { }의 키워드는 '반복'입니다. \n",
        "    - {0,1}과 동일하며, \n",
        "    - 예를 들어, XY?Z 는 XZ, XYZ와 매치됩니다.\n",
        "7.   *\n",
        "    - 기본적으로 { }의 키워드는 '반복'입니다. \n",
        "    - {0,inf}와 동일하며, \n",
        "    - 에를 들어, XY*Z 는 XZ, XYZ, XYYZ, ... 와 매치됩니다.\n",
        "8.   +\n",
        "    - 기본적으로 { }의 키워드는 '반복'입니다. \n",
        "    - {1,inf}와 동일하며, \n",
        "    - 에를 들어, XY+Z 는 XYZ, XYYZ, ... 와 매치됩니다.\n",
        "9.   \\\n",
        "    - 기본적으로 { }의 키워드는 '집합'입니다. \n",
        "    - \\n 처럼 줄바꿈 등의 문자열로도 활용하지만, \n",
        "    - 이 경우 \\d = [0-9], \\s = [ \\t\\n\\r\\f\\v], \\w = [a-zA-Z0-9_]와 같이 \n",
        "    - 대표적인 집합들을 간단히 표현합니다.\n",
        "10.  .\n",
        "    - 기본적으로 { }의 키워드는 '집합'입니다. \n",
        "    - \\n 을 제외한 모든 문자와 매치됩니다. \n",
        "    - 예를 들어, X.Y는 XY와 같은 반례를 제외한 모든 문자열과 매치됩니다. \n",
        "    - 다만 X[.]Y와 같이 사용시에는 X.Y와 매치됩니다.\n",
        " '''"
      ],
      "execution_count": 0,
      "outputs": []
    },
    {
      "cell_type": "code",
      "metadata": {
        "id": "eA-9HWAFzNVo",
        "colab_type": "code",
        "colab": {}
      },
      "source": [
        " '''\n",
        " 이러한 정규 표현식을 사용하기 위해서, 파이썬은 re 모듈을 지원합니다. \n",
        " 진행 방향은, re.compile()을 사용하여 정규 표현식을 컴파일 한 뒤, \n",
        " 그 결과로 나온 객체를 사용하여 아래의 4개 메서드를 활용해 문자열의 패턴을 매칭합니다.\n",
        " '''\n",
        "import re"
      ],
      "execution_count": 0,
      "outputs": []
    },
    {
      "cell_type": "markdown",
      "metadata": {
        "id": "wewRByak4rgG",
        "colab_type": "text"
      },
      "source": [
        "##1. match()\n",
        " - 문자열의 처음부터 정규식과 매치되는지 확인한다."
      ]
    },
    {
      "cell_type": "code",
      "metadata": {
        "id": "dzpOa_sZ4oUe",
        "colab_type": "code",
        "colab": {
          "base_uri": "https://localhost:8080/",
          "height": 54
        },
        "outputId": "5cd06b05-030d-4e42-b660-9c0459055fe9"
      },
      "source": [
        "regex = re.compile('[A-Z]+')\n",
        "match_output = regex.match('XYZ')\n",
        "print(match_output) # [A-Z] 패턴과 매칭되므로 match 객체 반환\n",
        "match_output = regex.match('123XYZ')\n",
        "print(match_output) # 첫 부분인 123이 [A-Z] 패턴과 매칭되지 않으므로 None 반환"
      ],
      "execution_count": 71,
      "outputs": [
        {
          "output_type": "stream",
          "text": [
            "<_sre.SRE_Match object; span=(0, 3), match='XYZ'>\n",
            "None\n"
          ],
          "name": "stdout"
        }
      ]
    },
    {
      "cell_type": "markdown",
      "metadata": {
        "id": "VEe4KAiD5qOP",
        "colab_type": "text"
      },
      "source": [
        "##2. search()\n",
        " - 문자열 전체를 검색하여 정규식과 매치되는지 확인한다."
      ]
    },
    {
      "cell_type": "code",
      "metadata": {
        "id": "ejVFQ3bF5EDz",
        "colab_type": "code",
        "colab": {
          "base_uri": "https://localhost:8080/",
          "height": 54
        },
        "outputId": "3cb7e8f9-4db3-4685-b9a6-22db8181a6b1"
      },
      "source": [
        "regex = re.compile('[A-Z]+')\n",
        "search_output = regex.search('XYZ')\n",
        "print(search_output) # [A-Z] 패턴과 매칭되므로 match 객체 반환\n",
        "search_output = regex.search('123XYZ')\n",
        "print(search_output) # 뒷 부분이 [A-Z] 패턴과 매칭되므로 match 객체 반환"
      ],
      "execution_count": 78,
      "outputs": [
        {
          "output_type": "stream",
          "text": [
            "<_sre.SRE_Match object; span=(0, 3), match='XYZ'>\n",
            "<_sre.SRE_Match object; span=(3, 6), match='XYZ'>\n"
          ],
          "name": "stdout"
        }
      ]
    },
    {
      "cell_type": "markdown",
      "metadata": {
        "id": "2ASxr_YL56_D",
        "colab_type": "text"
      },
      "source": [
        "##3. findall()\n",
        " - 정규식과 매치되는 모든 문자열을 리스트로 반환한다."
      ]
    },
    {
      "cell_type": "code",
      "metadata": {
        "id": "pM2-P3eF5xHg",
        "colab_type": "code",
        "colab": {
          "base_uri": "https://localhost:8080/",
          "height": 54
        },
        "outputId": "c2c59ab2-a0d2-4600-d10e-16ddf417d51b"
      },
      "source": [
        "regex = re.compile('[A-Z]+')\n",
        "findall_output = regex.findall('XYZ')\n",
        "print(findall_output) # [A-Z] 패턴과 매칭되는 XYZ 리스트 객체 반환\n",
        "findall_output = regex.findall('XYZ 123 ABC')\n",
        "print(findall_output) # [A-Z] 패턴과 매칭되는 XYZ ABC 리스트 객체 반환"
      ],
      "execution_count": 81,
      "outputs": [
        {
          "output_type": "stream",
          "text": [
            "['XYZ']\n",
            "['XYZ', 'ABC']\n"
          ],
          "name": "stdout"
        }
      ]
    },
    {
      "cell_type": "markdown",
      "metadata": {
        "id": "ybYJ6A_M59DF",
        "colab_type": "text"
      },
      "source": [
        "##4. finditer()\n",
        " - 정규식과 매치되는 모든 문자열을 iterable한 객체로 반환한다."
      ]
    },
    {
      "cell_type": "code",
      "metadata": {
        "id": "xKtji61u5_E-",
        "colab_type": "code",
        "colab": {
          "base_uri": "https://localhost:8080/",
          "height": 72
        },
        "outputId": "713e8de1-34fe-48ec-d856-3feb406b3bae"
      },
      "source": [
        "regex = re.compile('[A-Z]+')\n",
        "finditer_output = regex.finditer('XYZ 123 ABC')\n",
        "print(type(finditer_output)) # iterator 객체 반환\n",
        "for str_ in finditer_output:\n",
        "    print(str_) # [A-Z] 패턴과 매칭되는 XYZ ABC를 각각 반환"
      ],
      "execution_count": 86,
      "outputs": [
        {
          "output_type": "stream",
          "text": [
            "<class 'callable_iterator'>\n",
            "<_sre.SRE_Match object; span=(0, 3), match='XYZ'>\n",
            "<_sre.SRE_Match object; span=(8, 11), match='ABC'>\n"
          ],
          "name": "stdout"
        }
      ]
    },
    {
      "cell_type": "markdown",
      "metadata": {
        "id": "hQQicGe57ktu",
        "colab_type": "text"
      },
      "source": [
        "#[카카오 코딩 테스트](https://tech.kakao.com/2017/09/27/kakao-blind-recruitment-round-1/)의 2번 문제. 다트 게임의 풀이입니다."
      ]
    },
    {
      "cell_type": "code",
      "metadata": {
        "id": "4hUpR0rz7kjq",
        "colab_type": "code",
        "colab": {
          "base_uri": "https://localhost:8080/",
          "height": 54
        },
        "outputId": "34206359-3f94-454e-f3e9-5785f6ecc4aa"
      },
      "source": [
        "import re\n",
        "dartResult5 = '1D#2S*3S'\n",
        "def solution(dartResult):\n",
        "    bonus = {'S' : 1, 'D' : 2, 'T' : 3}\n",
        "    option = {'' : 1, '*' : 2, '#' : -1}\n",
        "    regex = re.compile('(\\d+)([SDT])([*#]?)')\n",
        "        # (숫자, 보너스, 옵션) 컴파일 객체\n",
        "        # \\d+: 숫자가 1개 이상 포함\n",
        "        # [SDT]: S,D,T를 포함\n",
        "        # [*#]? : *,#을 0개 이상 포함\n",
        "    dart = regex.findall(dartResult)\n",
        "        # dartResult str 내 regex와 매칭되는 문자열을 리스트로 반환\n",
        "    print('dart:',dart)\n",
        "    for i in range(len(dart)):\n",
        "        if dart[i][2] == '*' and i > 0:\n",
        "            dart[i-1] *= 2\n",
        "            # i 번째 다트의 옵션이 *이며, 이전에 발사한 다트가 있는 경우\n",
        "        dart[i] = int(dart[i][0]) ** bonus[dart[i][1]] * option[dart[i][2]]\n",
        "        # 그 외의 경우는 일괄 계산\n",
        "\n",
        "    answer = sum(dart)\n",
        "    return answer\n",
        "\n",
        "solution(dartResult5)"
      ],
      "execution_count": 91,
      "outputs": [
        {
          "output_type": "stream",
          "text": [
            "dart: [('1', 'D', '#'), ('2', 'S', '*'), ('3', 'S', '')]\n"
          ],
          "name": "stdout"
        },
        {
          "output_type": "execute_result",
          "data": {
            "text/plain": [
              "5"
            ]
          },
          "metadata": {
            "tags": []
          },
          "execution_count": 91
        }
      ]
    }
  ]
}