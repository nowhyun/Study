{
  "nbformat": 4,
  "nbformat_minor": 0,
  "metadata": {
    "colab": {
      "name": "데이터 스케일링(Data Scaling).ipynb",
      "provenance": [],
      "authorship_tag": "ABX9TyOi/fBw5p6sZG7stSo8jWSn",
      "include_colab_link": true
    },
    "kernelspec": {
      "name": "python3",
      "display_name": "Python 3"
    }
  },
  "cells": [
    {
      "cell_type": "markdown",
      "metadata": {
        "id": "view-in-github",
        "colab_type": "text"
      },
      "source": [
        "<a href=\"https://colab.research.google.com/github/nowhyun/Study/blob/master/%EB%8D%B0%EC%9D%B4%ED%84%B0_%EC%8A%A4%EC%BC%80%EC%9D%BC%EB%A7%81(Data_Scaling).ipynb\" target=\"_parent\"><img src=\"https://colab.research.google.com/assets/colab-badge.svg\" alt=\"Open In Colab\"/></a>"
      ]
    },
    {
      "cell_type": "markdown",
      "metadata": {
        "id": "fAD3_DP4x_Au",
        "colab_type": "text"
      },
      "source": [
        "[링크](https://junklee.tistory.com/18)와 함께 글을 보시면 좋습니다."
      ]
    },
    {
      "cell_type": "code",
      "metadata": {
        "id": "E57LCTESmT0O",
        "colab_type": "code",
        "colab": {
          "base_uri": "https://localhost:8080/",
          "height": 544
        },
        "outputId": "0bb43073-5dfa-4ecb-af7d-2bfbb5f3830a"
      },
      "source": [
        "from sklearn.preprocessing import StandardScaler, RobustScaler, MinMaxScaler, MaxAbsScaler, Normalizer\n",
        "import pandas as pd\n",
        "\n",
        "StdScaler = StandardScaler()\n",
        "RbstScaler = RobustScaler()\n",
        "MinmaxScaler = MinMaxScaler()\n",
        "MaxabsScaler = MaxAbsScaler()\n",
        "NmlScaler = Normalizer()\n",
        "\n",
        "X = pd.DataFrame([[4, 1, 2, 2], [1, 3, 9, 3], [5, 7, 5, 1]])\n",
        "print('X Dataframe:\\n',X); print('-'*50)\n",
        "\n",
        "X_std = StdScaler.fit_transform(X)\n",
        "X_rbst = RbstScaler.fit_transform(X)\n",
        "X_minmax = MinmaxScaler.fit_transform(X)\n",
        "X_maxabs = MaxabsScaler.fit_transform(X)\n",
        "X_nml = NmlScaler.fit_transform(X)\n",
        "print('StandardScaler:\\n',X_std); print('-'*50)\n",
        "print('RobustScaler:\\n',X_rbst); print('-'*50)\n",
        "print('MinMaxScaler:\\n',X_minmax); print('-'*50)\n",
        "print('MaxAbsScaler:\\n',X_maxabs); print('-'*50)\n",
        "print('Normalizer:\\n',X_nml); print('-'*50)"
      ],
      "execution_count": 39,
      "outputs": [
        {
          "output_type": "stream",
          "text": [
            "X Dataframe:\n",
            "    0  1  2  3\n",
            "0  4  1  2  2\n",
            "1  1  3  9  3\n",
            "2  5  7  5  1\n",
            "--------------------------------------------------\n",
            "StandardScaler:\n",
            " [[ 0.39223227 -1.06904497 -1.16247639  0.        ]\n",
            " [-1.37281295 -0.26726124  1.27872403  1.22474487]\n",
            " [ 0.98058068  1.33630621 -0.11624764 -1.22474487]]\n",
            "--------------------------------------------------\n",
            "RobustScaler:\n",
            " [[ 0.         -0.66666667 -0.85714286  0.        ]\n",
            " [-1.5         0.          1.14285714  1.        ]\n",
            " [ 0.5         1.33333333  0.         -1.        ]]\n",
            "--------------------------------------------------\n",
            "MinMaxScaler:\n",
            " [[0.75       0.         0.         0.5       ]\n",
            " [0.         0.33333333 1.         1.        ]\n",
            " [1.         1.         0.42857143 0.        ]]\n",
            "--------------------------------------------------\n",
            "MaxAbsScaler:\n",
            " [[0.8        0.14285714 0.22222222 0.66666667]\n",
            " [0.2        0.42857143 1.         1.        ]\n",
            " [1.         1.         0.55555556 0.33333333]]\n",
            "--------------------------------------------------\n",
            "Normalizer:\n",
            " [[0.8 0.2 0.4 0.4]\n",
            " [0.1 0.3 0.9 0.3]\n",
            " [0.5 0.7 0.5 0.1]]\n",
            "--------------------------------------------------\n"
          ],
          "name": "stdout"
        }
      ]
    }
  ]
}