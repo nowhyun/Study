{
  "nbformat": 4,
  "nbformat_minor": 0,
  "metadata": {
    "colab": {
      "name": "[인공지능을 위한 선형대수] 실습 1.ipynb",
      "provenance": [],
      "authorship_tag": "ABX9TyPqlBpFxYngt3Xr+4j/VeaY",
      "include_colab_link": true
    },
    "kernelspec": {
      "name": "python3",
      "display_name": "Python 3"
    }
  },
  "cells": [
    {
      "cell_type": "markdown",
      "metadata": {
        "id": "view-in-github",
        "colab_type": "text"
      },
      "source": [
        "<a href=\"https://colab.research.google.com/github/nowhyun/Study/blob/master/%5B%EC%9D%B8%EA%B3%B5%EC%A7%80%EB%8A%A5%EC%9D%84_%EC%9C%84%ED%95%9C_%EC%84%A0%ED%98%95%EB%8C%80%EC%88%98%5D_%EC%8B%A4%EC%8A%B5_1.ipynb\" target=\"_parent\"><img src=\"https://colab.research.google.com/assets/colab-badge.svg\" alt=\"Open In Colab\"/></a>"
      ]
    },
    {
      "cell_type": "code",
      "metadata": {
        "id": "ZgCQiQekxk8U",
        "colab_type": "code",
        "colab": {}
      },
      "source": [
        "import numpy as np"
      ],
      "execution_count": 0,
      "outputs": []
    },
    {
      "cell_type": "code",
      "metadata": {
        "id": "Rhz67sDkyt_f",
        "colab_type": "code",
        "colab": {
          "base_uri": "https://localhost:8080/",
          "height": 54
        },
        "outputId": "a2b20d12-afcd-40e8-90f1-ba690c839ba6"
      },
      "source": [
        "# column vector\n",
        "c = np.array([1,2,3])\n",
        "print(c.shape)\n",
        "\n",
        "# obtaining a particular entry\n",
        "print(c[0])"
      ],
      "execution_count": 2,
      "outputs": [
        {
          "output_type": "stream",
          "text": [
            "(3,)\n",
            "1\n"
          ],
          "name": "stdout"
        }
      ]
    },
    {
      "cell_type": "code",
      "metadata": {
        "id": "8jf8K_V8y1Wi",
        "colab_type": "code",
        "colab": {
          "base_uri": "https://localhost:8080/",
          "height": 54
        },
        "outputId": "a2284301-3c7a-4a49-c9df-fa45df939443"
      },
      "source": [
        "# row vector\n",
        "r = np.array([[1,2,3]])\n",
        "print(r.shape)\n",
        "\n",
        "# obtaining a aparticular entry\n",
        "print(r[0,1])"
      ],
      "execution_count": 5,
      "outputs": [
        {
          "output_type": "stream",
          "text": [
            "(1, 3)\n",
            "2\n"
          ],
          "name": "stdout"
        }
      ]
    },
    {
      "cell_type": "code",
      "metadata": {
        "id": "oiP5uxLLy4ar",
        "colab_type": "code",
        "colab": {
          "base_uri": "https://localhost:8080/",
          "height": 163
        },
        "outputId": "2dac804f-044e-4517-c81e-4ed6878dd5e1"
      },
      "source": [
        "# creating a matrix with all zeors\n",
        "a = np.zeros((2,2))\n",
        "print(a)\n",
        "      \n",
        "# creating a matrix with all ones\n",
        "b = np.ones((2,2))\n",
        "print(b)\n",
        "\n",
        "# creating a matrix filled with the same constant\n",
        "c = np.full((2,2), 7)\n",
        "print(c)\n",
        "\n",
        "# creating a matrix with random values\n",
        "d = np.random.random((2,2))\n",
        "print(d)"
      ],
      "execution_count": 7,
      "outputs": [
        {
          "output_type": "stream",
          "text": [
            "[[0. 0.]\n",
            " [0. 0.]]\n",
            "[[1. 1.]\n",
            " [1. 1.]]\n",
            "[[7 7]\n",
            " [7 7]]\n",
            "[[0.98053337 0.52740206]\n",
            " [0.8225372  0.69333341]]\n"
          ],
          "name": "stdout"
        }
      ]
    },
    {
      "cell_type": "code",
      "metadata": {
        "id": "zLatDdGcy75G",
        "colab_type": "code",
        "colab": {
          "base_uri": "https://localhost:8080/",
          "height": 108
        },
        "outputId": "cd4f6bc0-c31a-4212-ca4f-6bcb0bda7471"
      },
      "source": [
        "# creating a matrix\n",
        "A = np.array([[1,2], [3,4], [5,6]])\n",
        "B = np.array([[11,12,13,14], [15,16,17,18]])\n",
        "print(A)\n",
        "print(B)"
      ],
      "execution_count": 10,
      "outputs": [
        {
          "output_type": "stream",
          "text": [
            "[[1 2]\n",
            " [3 4]\n",
            " [5 6]]\n",
            "[[11 12 13 14]\n",
            " [15 16 17 18]]\n"
          ],
          "name": "stdout"
        }
      ]
    },
    {
      "cell_type": "code",
      "metadata": {
        "id": "O7d4k-34zYHZ",
        "colab_type": "code",
        "colab": {
          "base_uri": "https://localhost:8080/",
          "height": 54
        },
        "outputId": "0384b4ac-7280-4912-9f29-d75c4a49121c"
      },
      "source": [
        "# transpose a matrix\n",
        "A.T"
      ],
      "execution_count": 9,
      "outputs": [
        {
          "output_type": "execute_result",
          "data": {
            "text/plain": [
              "array([[1, 3, 5],\n",
              "       [2, 4, 6]])"
            ]
          },
          "metadata": {
            "tags": []
          },
          "execution_count": 9
        }
      ]
    },
    {
      "cell_type": "code",
      "metadata": {
        "id": "yNBraoTKzcSG",
        "colab_type": "code",
        "colab": {
          "base_uri": "https://localhost:8080/",
          "height": 72
        },
        "outputId": "09c75caf-72cb-4ffc-9712-445308ea4532"
      },
      "source": [
        "# matrix-matrix multiplication\n",
        "np.dot(A,B)"
      ],
      "execution_count": 11,
      "outputs": [
        {
          "output_type": "execute_result",
          "data": {
            "text/plain": [
              "array([[ 41,  44,  47,  50],\n",
              "       [ 93, 100, 107, 114],\n",
              "       [145, 156, 167, 178]])"
            ]
          },
          "metadata": {
            "tags": []
          },
          "execution_count": 11
        }
      ]
    },
    {
      "cell_type": "code",
      "metadata": {
        "id": "RB63T8DLzlx_",
        "colab_type": "code",
        "colab": {
          "base_uri": "https://localhost:8080/",
          "height": 209
        },
        "outputId": "bf28a88b-5142-45b5-c549-3689cabe1b8e"
      },
      "source": [
        "# matrix-matrix multiplication\n",
        "# size should match\n",
        "np.dot(B,A)"
      ],
      "execution_count": 12,
      "outputs": [
        {
          "output_type": "error",
          "ename": "ValueError",
          "evalue": "ignored",
          "traceback": [
            "\u001b[0;31m---------------------------------------------------------------------------\u001b[0m",
            "\u001b[0;31mValueError\u001b[0m                                Traceback (most recent call last)",
            "\u001b[0;32m<ipython-input-12-b0d7cf441888>\u001b[0m in \u001b[0;36m<module>\u001b[0;34m()\u001b[0m\n\u001b[0;32m----> 1\u001b[0;31m \u001b[0mnp\u001b[0m\u001b[0;34m.\u001b[0m\u001b[0mdot\u001b[0m\u001b[0;34m(\u001b[0m\u001b[0mB\u001b[0m\u001b[0;34m,\u001b[0m\u001b[0mA\u001b[0m\u001b[0;34m)\u001b[0m\u001b[0;34m\u001b[0m\u001b[0;34m\u001b[0m\u001b[0m\n\u001b[0m",
            "\u001b[0;32m<__array_function__ internals>\u001b[0m in \u001b[0;36mdot\u001b[0;34m(*args, **kwargs)\u001b[0m\n",
            "\u001b[0;31mValueError\u001b[0m: shapes (2,4) and (3,2) not aligned: 4 (dim 1) != 3 (dim 0)"
          ]
        }
      ]
    },
    {
      "cell_type": "code",
      "metadata": {
        "id": "uGZtoy6Tzrj_",
        "colab_type": "code",
        "colab": {
          "base_uri": "https://localhost:8080/",
          "height": 90
        },
        "outputId": "321aeb10-f04f-4a43-d8d5-22976068d6c0"
      },
      "source": [
        "# coefficient matrix A and a vector b\n",
        "A = np.array(([60, 5.5, 1], [65, 5.0, 0], [55, 6.0, 1]))\n",
        "b = np.array([66, 70, 78])\n",
        "print(A)\n",
        "print(b)"
      ],
      "execution_count": 14,
      "outputs": [
        {
          "output_type": "stream",
          "text": [
            "[[60.   5.5  1. ]\n",
            " [65.   5.   0. ]\n",
            " [55.   6.   1. ]]\n",
            "[66 70 78]\n"
          ],
          "name": "stdout"
        }
      ]
    },
    {
      "cell_type": "code",
      "metadata": {
        "id": "6PdmAPlvz6Yq",
        "colab_type": "code",
        "colab": {
          "base_uri": "https://localhost:8080/",
          "height": 72
        },
        "outputId": "21b02fde-4667-4c4b-e260-c8cc09cb094b"
      },
      "source": [
        "# identity matrix\n",
        "eye3 = np.eye(3)\n",
        "print(eye3)"
      ],
      "execution_count": 15,
      "outputs": [
        {
          "output_type": "stream",
          "text": [
            "[[1. 0. 0.]\n",
            " [0. 1. 0.]\n",
            " [0. 0. 1.]]\n"
          ],
          "name": "stdout"
        }
      ]
    },
    {
      "cell_type": "code",
      "metadata": {
        "id": "iqc8cRzW0DZN",
        "colab_type": "code",
        "colab": {
          "base_uri": "https://localhost:8080/",
          "height": 72
        },
        "outputId": "6e93e2c3-0343-4825-cc0d-78ffa12c47de"
      },
      "source": [
        "# computing an inverse\n",
        "from numpy.linalg import inv\n",
        "A_inv = inv(A)\n",
        "print(A_inv)"
      ],
      "execution_count": 16,
      "outputs": [
        {
          "output_type": "stream",
          "text": [
            "[[ 0.08695652  0.00869565 -0.08695652]\n",
            " [-1.13043478  0.08695652  1.13043478]\n",
            " [ 2.         -1.         -1.        ]]\n"
          ],
          "name": "stdout"
        }
      ]
    },
    {
      "cell_type": "code",
      "metadata": {
        "id": "M_5c1t4w0KVc",
        "colab_type": "code",
        "colab": {
          "base_uri": "https://localhost:8080/",
          "height": 72
        },
        "outputId": "3e98d3bb-ab65-4990-9754-95c6c2a74c1d"
      },
      "source": [
        "# wrong matrix multiplication\n",
        "# if this operation is matrix multiplication, the the result should be identity matrix\n",
        "# in this case, * operation is elmentwise multiplication!\n",
        "A*A_inv"
      ],
      "execution_count": 17,
      "outputs": [
        {
          "output_type": "execute_result",
          "data": {
            "text/plain": [
              "array([[ 5.21739130e+00,  4.78260870e-02, -8.69565217e-02],\n",
              "       [-7.34782609e+01,  4.34782609e-01,  0.00000000e+00],\n",
              "       [ 1.10000000e+02, -6.00000000e+00, -1.00000000e+00]])"
            ]
          },
          "metadata": {
            "tags": []
          },
          "execution_count": 17
        }
      ]
    },
    {
      "cell_type": "code",
      "metadata": {
        "id": "JlR_l08RIOQg",
        "colab_type": "code",
        "colab": {
          "base_uri": "https://localhost:8080/",
          "height": 72
        },
        "outputId": "eae17bad-6e66-4777-e18d-eac090d7f454"
      },
      "source": [
        "# correct matrix multiplication\n",
        "A.dot(A_inv)"
      ],
      "execution_count": 18,
      "outputs": [
        {
          "output_type": "execute_result",
          "data": {
            "text/plain": [
              "array([[ 1.0000000e+00,  0.0000000e+00, -4.4408921e-16],\n",
              "       [ 8.8817842e-16,  1.0000000e+00, -8.8817842e-16],\n",
              "       [-8.8817842e-16,  0.0000000e+00,  1.0000000e+00]])"
            ]
          },
          "metadata": {
            "tags": []
          },
          "execution_count": 18
        }
      ]
    },
    {
      "cell_type": "code",
      "metadata": {
        "id": "kxWscp3CIv0a",
        "colab_type": "code",
        "colab": {
          "base_uri": "https://localhost:8080/",
          "height": 35
        },
        "outputId": "31bdb1ff-bf23-44b3-9612-f5513c67ab14"
      },
      "source": [
        "# solution of a linear system\n",
        "# Ax = b => x = A_inv * b\n",
        "x = A_inv.dot(b)\n",
        "print(x)"
      ],
      "execution_count": 19,
      "outputs": [
        {
          "output_type": "stream",
          "text": [
            "[ -0.43478261  19.65217391 -16.        ]\n"
          ],
          "name": "stdout"
        }
      ]
    },
    {
      "cell_type": "code",
      "metadata": {
        "id": "0jnVDnY1IzJ6",
        "colab_type": "code",
        "colab": {
          "base_uri": "https://localhost:8080/",
          "height": 35
        },
        "outputId": "7b34e1cf-a020-4751-ef4b-f69826c34ce4"
      },
      "source": [
        "# a better way to solve the same linear system\n",
        "# A_inv를 직접적으로 구해야하는 경우는 거의 없다. 이럴 경우 오차가 존재한다.\n",
        "# solve는 A_inv를 사용하지 않고 구성된다.\n",
        "from numpy.linalg import solve\n",
        "x = solve(A,b)\n",
        "print(x)"
      ],
      "execution_count": 21,
      "outputs": [
        {
          "output_type": "stream",
          "text": [
            "[ -0.43478261  19.65217391 -16.        ]\n"
          ],
          "name": "stdout"
        }
      ]
    }
  ]
}